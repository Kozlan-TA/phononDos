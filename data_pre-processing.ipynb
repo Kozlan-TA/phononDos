{
 "cells": [
  {
   "cell_type": "code",
   "execution_count": 1,
   "metadata": {},
   "outputs": [
    {
     "name": "stderr",
     "output_type": "stream",
     "text": [
      "c:\\Anaconda\\envs\\phononDos\\lib\\site-packages\\tqdm\\auto.py:21: TqdmWarning: IProgress not found. Please update jupyter and ipywidgets. See https://ipywidgets.readthedocs.io/en/stable/user_install.html\n",
      "  from .autonotebook import tqdm as notebook_tqdm\n"
     ]
    }
   ],
   "source": [
    "# data pre-processing\n",
    "import pandas as pd\n",
    "import numpy as np\n",
    "import scipy \n",
    "import ase\n",
    "\n",
    "# data visualization\n",
    "import matplotlib.pyplot as plt\n",
    "\n",
    "# utils\n",
    "import utils.utils_preprocess"
   ]
  },
  {
   "cell_type": "code",
   "execution_count": 2,
   "metadata": {},
   "outputs": [
    {
     "data": {
      "text/html": [
       "<div>\n",
       "<style scoped>\n",
       "    .dataframe tbody tr th:only-of-type {\n",
       "        vertical-align: middle;\n",
       "    }\n",
       "\n",
       "    .dataframe tbody tr th {\n",
       "        vertical-align: top;\n",
       "    }\n",
       "\n",
       "    .dataframe thead th {\n",
       "        text-align: right;\n",
       "    }\n",
       "</style>\n",
       "<table border=\"1\" class=\"dataframe\">\n",
       "  <thead>\n",
       "    <tr style=\"text-align: right;\">\n",
       "      <th></th>\n",
       "      <th>structure</th>\n",
       "      <th>phfreq</th>\n",
       "      <th>phdos</th>\n",
       "    </tr>\n",
       "  </thead>\n",
       "  <tbody>\n",
       "    <tr>\n",
       "      <th>0</th>\n",
       "      <td>{'numbers': [6, 6, 6, 6, 6, 6], 'positions': [...</td>\n",
       "      <td>[0.0, 20.0, 40.0, 60.0, 80.0, 100.0, 120.0, 14...</td>\n",
       "      <td>[0.0, 0.0, 0.016933910788354246, 0.04094445828...</td>\n",
       "    </tr>\n",
       "    <tr>\n",
       "      <th>1</th>\n",
       "      <td>{'numbers': [72, 72], 'positions': [[-2.236601...</td>\n",
       "      <td>[0.0, 20.0, 40.0, 60.0, 80.0, 100.0, 120.0, 14...</td>\n",
       "      <td>[0.05220870154698572, 0.0, 0.1045679011559471,...</td>\n",
       "    </tr>\n",
       "    <tr>\n",
       "      <th>2</th>\n",
       "      <td>{'numbers': [72, 72, 72, 72, 72, 72, 72, 72, 7...</td>\n",
       "      <td>[0.0, 20.0, 40.0, 60.0, 80.0, 100.0, 120.0, 14...</td>\n",
       "      <td>[0.024868078694836315, 0.0, 0.0451414249482708...</td>\n",
       "    </tr>\n",
       "    <tr>\n",
       "      <th>3</th>\n",
       "      <td>{'numbers': [72, 72, 72, 73, 73, 73, 73, 73, 6...</td>\n",
       "      <td>[0.0, 20.0, 40.0, 60.0, 80.0, 100.0, 120.0, 14...</td>\n",
       "      <td>[0.016597939219827024, 0.0, 0.0321311975653191...</td>\n",
       "    </tr>\n",
       "    <tr>\n",
       "      <th>4</th>\n",
       "      <td>{'numbers': [72, 72, 72, 72, 72, 72, 73, 73, 6...</td>\n",
       "      <td>[0.0, 20.0, 40.0, 60.0, 80.0, 100.0, 120.0, 14...</td>\n",
       "      <td>[0.0, 0.013503690793283658, 0.0245555058911607...</td>\n",
       "    </tr>\n",
       "  </tbody>\n",
       "</table>\n",
       "</div>"
      ],
      "text/plain": [
       "                                           structure  \\\n",
       "0  {'numbers': [6, 6, 6, 6, 6, 6], 'positions': [...   \n",
       "1  {'numbers': [72, 72], 'positions': [[-2.236601...   \n",
       "2  {'numbers': [72, 72, 72, 72, 72, 72, 72, 72, 7...   \n",
       "3  {'numbers': [72, 72, 72, 73, 73, 73, 73, 73, 6...   \n",
       "4  {'numbers': [72, 72, 72, 72, 72, 72, 73, 73, 6...   \n",
       "\n",
       "                                              phfreq  \\\n",
       "0  [0.0, 20.0, 40.0, 60.0, 80.0, 100.0, 120.0, 14...   \n",
       "1  [0.0, 20.0, 40.0, 60.0, 80.0, 100.0, 120.0, 14...   \n",
       "2  [0.0, 20.0, 40.0, 60.0, 80.0, 100.0, 120.0, 14...   \n",
       "3  [0.0, 20.0, 40.0, 60.0, 80.0, 100.0, 120.0, 14...   \n",
       "4  [0.0, 20.0, 40.0, 60.0, 80.0, 100.0, 120.0, 14...   \n",
       "\n",
       "                                               phdos  \n",
       "0  [0.0, 0.0, 0.016933910788354246, 0.04094445828...  \n",
       "1  [0.05220870154698572, 0.0, 0.1045679011559471,...  \n",
       "2  [0.024868078694836315, 0.0, 0.0451414249482708...  \n",
       "3  [0.016597939219827024, 0.0, 0.0321311975653191...  \n",
       "4  [0.0, 0.013503690793283658, 0.0245555058911607...  "
      ]
     },
     "execution_count": 2,
     "metadata": {},
     "output_type": "execute_result"
    }
   ],
   "source": [
    "directories = [r\"C:\\Личное\\Сколково\\Данные\\Phonons\", r\"C:\\Личное\\Сколково\\Данные\\Phonons\\Other\"]\n",
    "save_name = \"data/data_test_only.csv\"\n",
    "\n",
    "# df = pd.read_csv(\"data/data.csv\")\n",
    "# df.drop([\"mp_id\", \"pdos\"], axis = 1, inplace = True)\n",
    "df = pd.DataFrame(columns = [\"structure\", \"phfreq\", \"phdos\"])\n",
    "for directory in directories:\n",
    "    df = pd.concat([df , utils.utils_preprocess.read_dir(directory = directory)], ignore_index = True)\n",
    "    \n",
    "s = []\n",
    "for i in np.arange(len(df[\"phdos\"])):\n",
    "    if type(df.iloc[i].phdos) != list:\n",
    "        s.append(i)\n",
    "df.drop(axis = 0, index = s , inplace = True)\n",
    "df.to_csv(save_name, index = False)\n",
    "df.head()"
   ]
  },
  {
   "cell_type": "code",
   "execution_count": 20,
   "metadata": {},
   "outputs": [
    {
     "data": {
      "text/plain": [
       "[<matplotlib.lines.Line2D at 0x1dd1b113910>]"
      ]
     },
     "execution_count": 20,
     "metadata": {},
     "output_type": "execute_result"
    },
    {
     "data": {
      "image/png": "[encoded data removed]",
      "text/plain": [
       "<Figure size 640x480 with 1 Axes>"
      ]
     },
     "metadata": {},
     "output_type": "display_data"
    }
   ],
   "source": [
    "N = np.random.randint(0, len(df))\n",
    "df = pd.read_csv(\"data/data_test_only.csv\")\n",
    "plt.plot(eval(df.iloc[N].phfreq), eval(df.iloc[N].phdos))"
   ]
  }
 ],
 "metadata": {
  "kernelspec": {
   "display_name": "6.86x",
   "language": "python",
   "name": "python3"
  },
  "language_info": {
   "codemirror_mode": {
    "name": "ipython",
    "version": 3
   },
   "file_extension": ".py",
   "mimetype": "text/x-python",
   "name": "python",
   "nbconvert_exporter": "python",
   "pygments_lexer": "ipython3",
   "version": "3.10.9"
  },
  "orig_nbformat": 4
 },
 "nbformat": 4,
 "nbformat_minor": 2
}
